{
 "cells": [
  {
   "cell_type": "markdown",
   "id": "5a91a21d-5d67-4293-b5fc-344840d2a4fa",
   "metadata": {},
   "source": [
    "## Implementation\n",
    "\n",
    "The below code fragment implements a `LinearRegression` classifier using a basic Gradient Descent procedure."
   ]
  },
  {
   "cell_type": "markdown",
   "id": "4c2a1dfb-89b4-4952-9f31-5446fb54d544",
   "metadata": {},
   "source": [
    "## Computing Gradients\n",
    "\n",
    "We have an MSE loss function $\\frac{1}{n} \\sum (y - f(x))^2$.\n",
    "\n",
    "Where function $f(x) = xW + b$.\n",
    "\n",
    "We now calculate partial derivatives of the loss function with respect to weights and a bias.\n",
    "\n",
    "Let us first calculate the derivative of one square difference w.r.t. $W$:\n",
    "\n",
    "\\begin{align}\n",
    "    ((y - f(x))^2)' &= ((y - (xW + b))^2)'\\\\\n",
    "                    &= 2 * (y - (xW + b)) * (y - (xW + b))'\\\\\n",
    "                    &= 2 * (y - (xW + b)) * (0 - (x + 0))\\\\\n",
    "                    &= 2 * (y - (xW + b)) * (-x)\\\\\n",
    "                    &= -2x * (y - (xW + b))\n",
    "\\end{align}\n",
    "\n",
    "Then the total derivative will be $-2 * dot(x.T, y - f(x))\\ /\\ n$.\n",
    "\n",
    "Let us now calculate the derivative of one square difference w.r.t. $b$:\n",
    "\n",
    "\\begin{align}\n",
    "    ((y - f(x))^2)' &= ((y - (xW + b))^2)'\\\\\n",
    "                    &= 2 * (y - (xW + b)) * (y - f(xW + b))'\\\\\n",
    "                    &= 2 * (y - (xW + b)) * (0 - (0 + 1))\\\\\n",
    "                    &= 2 * (y - (xW + b)) * (-x)\\\\\n",
    "                    &= -2 * (y - (xW + b))\n",
    "\\end{align}\n",
    "\n",
    "Then the total derivative will be $-2 * sum(y - f(x))\\ /\\ n$."
   ]
  },
  {
   "cell_type": "code",
   "execution_count": 1,
   "id": "81260fa6-517c-4f0c-bd09-bc23f5d91a3a",
   "metadata": {},
   "outputs": [],
   "source": [
    "import numpy as np\n",
    "\n",
    "\n",
    "class LinearRegression:\n",
    "    def __init__(self, features: np.ndarray, labels: np.ndarray, learning_rate: float = 1e-5, iterations: int = 100, logging: bool = False) -> None:\n",
    "        \"\"\"Initializes a Linear Regression model.\"\"\"\n",
    "\n",
    "        self.features = features\n",
    "        self.labels = labels\n",
    "        self.learning_rate = learning_rate\n",
    "        self.iterations = iterations\n",
    "        self.logging = logging\n",
    "\n",
    "        self.num_samples, num_features = features.shape\n",
    "\n",
    "        self.weights = np.zeros(num_features, dtype=np.float32)\n",
    "        self.bias = np.float32(1.0)\n",
    "\n",
    "    def mse_loss(self, residuals: np.ndarray) -> np.float32:\n",
    "        \"\"\"Computes a Mean Squared Error (MSE) loss.\"\"\"\n",
    "\n",
    "        return np.mean(np.square(residuals))\n",
    "\n",
    "    def fit(self) -> None:\n",
    "        \"\"\"Fits a Linear Regression model.\"\"\"\n",
    "\n",
    "        for _ in range(self.iterations):\n",
    "            residuals = self.labels - self.predict(self.features)\n",
    "\n",
    "            d_weights = -2 / self.num_samples * np.dot(self.features.T, residuals)\n",
    "            d_bias = -2 / self.num_samples * np.sum(residuals)\n",
    "\n",
    "            self.weights -= self.learning_rate * d_weights\n",
    "            self.bias -= self.learning_rate * d_bias\n",
    "\n",
    "            if self.logging:\n",
    "                print(f\"MSE Loss: {self.mse_loss(residuals):.3f}\")\n",
    "\n",
    "    def predict(self, features: np.ndarray) -> np.ndarray:\n",
    "        \"\"\"Performs an inference on the given features.\"\"\"\n",
    "\n",
    "        return np.dot(features, self.weights) + self.bias"
   ]
  },
  {
   "cell_type": "markdown",
   "id": "2a1a160a-638b-4a32-8df8-1ac75813ac57",
   "metadata": {},
   "source": [
    "## Generate Fake Data\n",
    "\n",
    "We generate some fake training and test data to approximate function $f(x) = 2x$."
   ]
  },
  {
   "cell_type": "code",
   "execution_count": 2,
   "id": "2c18c111-6418-4495-a449-3e0158c63748",
   "metadata": {},
   "outputs": [],
   "source": [
    "import matplotlib.pyplot as plt\n",
    "\n",
    "\n",
    "plt.style.use(\"ggplot\")"
   ]
  },
  {
   "cell_type": "code",
   "execution_count": 3,
   "id": "7ab495fb-0e3c-40c0-b03e-bd92608b86ce",
   "metadata": {},
   "outputs": [
    {
     "data": {
      "image/png": "[encoded data removed]",
      "text/plain": [
       "<Figure size 432x288 with 1 Axes>"
      ]
     },
     "metadata": {
      "needs_background": "light"
     },
     "output_type": "display_data"
    }
   ],
   "source": [
    "# Training dataset\n",
    "train_features = np.arange(0, 250).reshape(-1, 1)\n",
    "train_labels = np.arange(0, 500, 2)\n",
    "\n",
    "# Testing dataset\n",
    "test_features = np.arange(300, 400, 8).reshape(-1, 1)\n",
    "test_labels = np.arange(600, 800, 16)\n",
    "\n",
    "# Plot the data\n",
    "plt.title(\"Visualization for f(x) = 2x\")\n",
    "plt.xlabel(\"x\")\n",
    "plt.ylabel(\"y\")\n",
    "plt.plot(train_features, train_labels)\n",
    "plt.show()"
   ]
  },
  {
   "cell_type": "code",
   "execution_count": 4,
   "id": "dd8a295e-e71f-4ce8-9427-3402579cd02f",
   "metadata": {},
   "outputs": [],
   "source": [
    "linear_regression = LinearRegression(train_features, train_labels, iterations=75, learning_rate=1e-5, logging=False)\n",
    "linear_regression.fit()"
   ]
  },
  {
   "cell_type": "code",
   "execution_count": 5,
   "id": "d749b7dc-18cd-40b8-93e9-932fb87bddf9",
   "metadata": {},
   "outputs": [
    {
     "data": {
      "image/png": "[encoded data removed]",
      "text/plain": [
       "<Figure size 432x288 with 1 Axes>"
      ]
     },
     "metadata": {
      "needs_background": "light"
     },
     "output_type": "display_data"
    }
   ],
   "source": [
    "plt.title(\"Visualization for Approximated f(x) = 2x\")\n",
    "plt.xlabel(\"x\")\n",
    "plt.ylabel(\"y\")\n",
    "plt.scatter(test_features, test_labels, color=\"blue\")\n",
    "plt.plot(test_features, linear_regression.predict(test_features))\n",
    "plt.show()"
   ]
  }
 ],
 "metadata": {
  "kernelspec": {
   "display_name": "Python 3 (ipykernel)",
   "language": "python",
   "name": "python3"
  },
  "language_info": {
   "codemirror_mode": {
    "name": "ipython",
    "version": 3
   },
   "file_extension": ".py",
   "mimetype": "text/x-python",
   "name": "python",
   "nbconvert_exporter": "python",
   "pygments_lexer": "ipython3",
   "version": "3.9.4"
  }
 },
 "nbformat": 4,
 "nbformat_minor": 5
}
