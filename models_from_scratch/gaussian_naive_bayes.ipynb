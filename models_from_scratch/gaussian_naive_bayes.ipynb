{
 "cells": [
  {
   "cell_type": "code",
   "execution_count": 1,
   "id": "06dd76b1",
   "metadata": {},
   "outputs": [],
   "source": [
    "import numpy as np\n",
    "\n",
    "from dataclasses import dataclass\n",
    "\n",
    "\n",
    "@dataclass\n",
    "class GaussianNaiveBayes:\n",
    "    features: np.ndarray\n",
    "    labels: np.ndarray\n",
    "\n",
    "    def __post_init__(self) -> None:\n",
    "        \"\"\"Initializes additional variables for the Gaussian Naive Bayes model.\"\"\"\n",
    "\n",
    "        self.unique_labels = np.unique(self.labels)\n",
    "\n",
    "    def fit(self) -> None:\n",
    "        \"\"\"Fits the Gaussian Naive Bayes model.\"\"\"\n",
    "\n",
    "        self.params = []\n",
    "        # Calculate the mean and variance of each feature for each label\n",
    "        for label in self.unique_labels:\n",
    "            label_features = self.features[self.labels == label]\n",
    "            self.params.append([(col.mean(), col.var()) for col in label_features.T])\n",
    "\n",
    "    def likelihood(self, data: float, mean: float, var: float) -> float:\n",
    "        \"\"\"Calculates the Gaussian likelihood of the data with the given mean and variance.\"\"\"\n",
    "\n",
    "        # NOTE: Added in denominator to prevent division by zero\n",
    "        eps = 1e-4\n",
    "\n",
    "        coeff = 1 / np.sqrt(2 * np.pi * var + eps)\n",
    "        exponent = np.exp(-((data - mean) ** 2 / (2 * var + eps)))\n",
    "\n",
    "        return coeff * exponent\n",
    "\n",
    "    def predict(self, features: np.ndarray) -> np.ndarray:\n",
    "        \"\"\"Performs inference using Bayes Rule P(Y | X) = P(X | Y) * P(Y) / P(X).\"\"\"\n",
    "\n",
    "        predictions = []\n",
    "        for feature in features:\n",
    "            posteriors = []\n",
    "            for idx, label in enumerate(self.unique_labels):\n",
    "                prior = np.mean(self.labels == label)\n",
    "                # Naive assumption (independence):\n",
    "                #   P(x1, x2, x3 | Y) = P(x1 | Y) * P(x2 | Y) * P(x3 | Y)\n",
    "                likelihood = np.prod(\n",
    "                    [self.likelihood(fv, m, v) for fv, (m, v) in zip(feature, self.params[idx])]\n",
    "                )\n",
    "                # Posterior = Prior * Likelihood / Scaling Factor (ignoring scaling factor)\n",
    "                posteriors.append(prior * likelihood)\n",
    "\n",
    "            # Store the label with the largest posterior probability\n",
    "            predictions.append(self.unique_labels[np.argmax(posteriors)])\n",
    "\n",
    "        return np.array(predictions)"
   ]
  },
  {
   "cell_type": "code",
   "execution_count": 2,
   "id": "ca292340",
   "metadata": {},
   "outputs": [
    {
     "name": "stdout",
     "output_type": "stream",
     "text": [
      "Precision: 0.961\n",
      "Precision: 0.944\n",
      "Precision: 0.949\n",
      "\n",
      "Mislabeled points: 4/75\n"
     ]
    }
   ],
   "source": [
    "from sklearn.datasets import load_iris\n",
    "from sklearn.metrics import precision_recall_fscore_support\n",
    "from sklearn.model_selection import train_test_split\n",
    "\n",
    "\n",
    "features, labels = load_iris(return_X_y=True)\n",
    "train_features, test_features, train_labels, test_labels = train_test_split(\n",
    "    features, labels, test_size=0.5, random_state=0\n",
    ")\n",
    "\n",
    "gnb = GaussianNaiveBayes(train_features, train_labels)\n",
    "gnb.fit()\n",
    "predictions = gnb.predict(test_features)\n",
    "\n",
    "precision, recall, fscore, _ = precision_recall_fscore_support(\n",
    "    test_labels, predictions, average=\"macro\"\n",
    ")\n",
    "\n",
    "print(f\"Precision: {precision:.3f}\")\n",
    "print(f\"Precision: {recall:.3f}\")\n",
    "print(f\"Precision: {fscore:.3f}\")\n",
    "print()\n",
    "print(f\"Mislabeled points: {(predictions != test_labels).sum()}/{test_features.shape[0]}\")"
   ]
  }
 ],
 "metadata": {
  "kernelspec": {
   "display_name": "Python 3.9.4 64-bit ('3.9.4')",
   "language": "python",
   "name": "python3"
  },
  "language_info": {
   "codemirror_mode": {
    "name": "ipython",
    "version": 3
   },
   "file_extension": ".py",
   "mimetype": "text/x-python",
   "name": "python",
   "nbconvert_exporter": "python",
   "pygments_lexer": "ipython3",
   "version": "3.9.4"
  },
  "vscode": {
   "interpreter": {
    "hash": "f6f1e9be77d236915cf372a30ac7bd8eca8cdc17d355834e2d3963ff4a02a9e7"
   }
  }
 },
 "nbformat": 4,
 "nbformat_minor": 5
}
