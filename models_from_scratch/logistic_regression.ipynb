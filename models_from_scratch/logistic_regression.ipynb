{
 "cells": [
  {
   "cell_type": "markdown",
   "id": "5a91a21d-5d67-4293-b5fc-344840d2a4fa",
   "metadata": {},
   "source": [
    "## Implementation\n",
    "\n",
    "The below code implements a `LogisticRegression` classifier using a Gradient Descent algorithm."
   ]
  },
  {
   "cell_type": "markdown",
   "id": "32928cca-1422-4f49-9731-b2b2ea1ad1dc",
   "metadata": {},
   "source": [
    "## Computing Gradients\n",
    "\n",
    "We have an MSE loss function $-(y\\log{f(x)} + (1 - y)\\log{(1 - f(x))})$.\n",
    "\n",
    "Where function $f(x) = xW + b$.\n",
    "\n",
    "We now calculate partial derivatives of the loss function with respect to weights and a bias.\n",
    "\n",
    "Let us first calculate the derivative of one square difference w.r.t. $W$:\n",
    "\n",
    "Recall that $h' = \\Big(\\dfrac{1}{1 + e^{-x}}\\Big)' = h(1 - h)$.\n",
    "\n",
    "Since y is fixed, let us calculate the derivative directly first:\n",
    "\n",
    "\\begin{align}\n",
    "    (-(y\\log{h} + (1 - y)\\log{(1 - h)}))' &= -\\frac{y}{h} * h' - \\frac{1 - y}{1 - h} * (-h')\\\\\n",
    "                                          &= h'* \\frac{y(1 - h) - (1 - y)h}{h(1 - h)}\\\\\n",
    "                                          &= (xW + b)' * h(1 - h) * \\frac{y(1 - h) - (1 - y)h}{h(1 - h)}\\\\\n",
    "                                          &= (-(xW + b))' * (y - h)\\\\\n",
    "                                          &= (xW + b)' * (h - y)\n",
    "\\end{align}\n",
    "\n",
    "Then the derivative w.r.t $W$ is\n",
    "\n",
    "\\begin{equation}\n",
    "    \\frac{1}{n} \\sum^i x.T \\cdot (f(x_i) - y_i)\n",
    "\\end{equation}\n",
    "\n",
    "and the derivative w.r.t. $b$ is\n",
    "\n",
    "\\begin{equation}\n",
    "    \\frac{1}{n} \\sum^i f(x_i) - y_i\n",
    "\\end{equation}"
   ]
  },
  {
   "cell_type": "code",
   "execution_count": 1,
   "id": "81260fa6-517c-4f0c-bd09-bc23f5d91a3a",
   "metadata": {},
   "outputs": [],
   "source": [
    "import numpy as np\n",
    "\n",
    "from dataclasses import dataclass\n",
    "\n",
    "\n",
    "@dataclass\n",
    "class LogisticRegression:\n",
    "    features: np.ndarray\n",
    "    labels: np.ndarray\n",
    "    learning_rate: float\n",
    "    epochs: int\n",
    "    threshold: float\n",
    "    logging: bool\n",
    "\n",
    "    def __post_init__(self) -> None:\n",
    "        \"\"\"Initializes additional variables for the Logistic Regression model.\"\"\"\n",
    "\n",
    "        self.num_samples, num_features = self.features.shape\n",
    "        self.weights, self.bias = np.zeros(num_features), 0\n",
    "\n",
    "    def sigmoid(self, logits: np.ndarray) -> np.ndarray:\n",
    "        \"\"\"A numerically stable implementation of the Sigmoid activation function.\"\"\"\n",
    "\n",
    "        return np.where(\n",
    "            logits < 0, np.exp(logits) / (1 + np.exp(logits)), 1 / (1 + np.exp(-logits))\n",
    "        )\n",
    "\n",
    "    def mean_log_loss(self, predictions: np.ndarray) -> np.float32:\n",
    "        \"\"\"Computes a mean Cross Entropy Loss (in binary classification, also called Log Loss).\"\"\"\n",
    "\n",
    "        return np.mean(\n",
    "            -self.labels * np.log(predictions) - (1 - self.labels) * (1 - np.log(predictions))\n",
    "        )\n",
    "\n",
    "    def fit(self) -> None:\n",
    "        \"\"\"Fits a Logistic Regression model.\"\"\"\n",
    "\n",
    "        for _ in range(self.epochs):\n",
    "            prediction = self.sigmoid(self.features.dot(self.weights) + self.bias)\n",
    "            difference = prediction - self.labels\n",
    "\n",
    "            d_weights = difference.dot(self.features) / self.num_samples\n",
    "            d_bias = difference.sum() / self.num_samples\n",
    "\n",
    "            self.weights -= self.learning_rate * d_weights\n",
    "            self.bias -= self.learning_rate * d_bias\n",
    "\n",
    "            if self.logging:\n",
    "                print(f\"Log Loss: {self.mean_log_loss(prediction):.3f}\")\n",
    "\n",
    "    def predict(self, features: np.ndarray) -> np.ndarray:\n",
    "        \"\"\"Performs inference using the given features.\"\"\"\n",
    "\n",
    "        return np.where(\n",
    "            self.sigmoid(np.dot(features, self.weights) + self.bias) < self.threshold, 0, 1\n",
    "        )"
   ]
  },
  {
   "cell_type": "markdown",
   "id": "2a1a160a-638b-4a32-8df8-1ac75813ac57",
   "metadata": {},
   "source": [
    "## Generate Data\n",
    "\n",
    "We generate some training and test data to approximate function $f(x) = 2x$."
   ]
  },
  {
   "cell_type": "code",
   "execution_count": 2,
   "id": "7ab495fb-0e3c-40c0-b03e-bd92608b86ce",
   "metadata": {},
   "outputs": [],
   "source": [
    "import matplotlib.pyplot as plt\n",
    "\n",
    "from sklearn.datasets import load_breast_cancer\n",
    "from sklearn.model_selection import train_test_split\n",
    "\n",
    "\n",
    "plt.style.use(\"bmh\")\n",
    "\n",
    "# Prepare the data\n",
    "data = load_breast_cancer()\n",
    "features = data.data\n",
    "labels = data.target\n",
    "\n",
    "# Train/test split\n",
    "train_features, test_features, train_labels, test_labels = train_test_split(\n",
    "    features, labels, test_size=0.33, random_state=79\n",
    ")\n",
    "\n",
    "lr = LogisticRegression(\n",
    "    train_features, train_labels, learning_rate=1e-5, epochs=30_000, threshold=0.5, logging=False\n",
    ")\n",
    "lr.fit()"
   ]
  },
  {
   "cell_type": "markdown",
   "id": "df4d2a39-865a-412e-a52b-5ba379d3dd68",
   "metadata": {},
   "source": [
    "## Report Model Statistics\n",
    "\n",
    "$Accuracy  = \\dfrac{Correct\\ Predictions}{Total\\ Predictions}$\n",
    "\n",
    "$Precision = \\dfrac{True\\ Positive}{True\\ Positive + False\\ Positive}$\n",
    "\n",
    "$Recall    = \\dfrac{True\\ Positive}{True\\ Positive + False\\ Negative}$\n",
    "\n",
    "*Precision* is related to **Type I** error, while *Recall* is related to **Type II** error."
   ]
  },
  {
   "cell_type": "code",
   "execution_count": 3,
   "id": "b2f680d8-19bc-4fa8-9ac9-3dd85fcfaf8e",
   "metadata": {},
   "outputs": [
    {
     "name": "stdout",
     "output_type": "stream",
     "text": [
      "Accuracy:  94.681%\n",
      "Precision: 0.946\n",
      "Recall:    0.976\n"
     ]
    }
   ],
   "source": [
    "predictions = lr.predict(test_features)\n",
    "labels = test_labels\n",
    "\n",
    "tp = ((predictions == 1) & (labels == 1)).sum()\n",
    "fp = ((predictions == 1) & (labels == 0)).sum()\n",
    "fn = ((predictions == 0) & (labels == 1)).sum()\n",
    "\n",
    "accuracy = (predictions == labels).mean()\n",
    "precision = tp / (tp + fp)\n",
    "recall = tp / (tp + fn)\n",
    "\n",
    "print(f\"Accuracy:  {100 * accuracy:0.3f}%\")\n",
    "print(f\"Precision: {precision:0.3f}\")\n",
    "print(f\"Recall:    {recall:0.3f}\")"
   ]
  }
 ],
 "metadata": {
  "kernelspec": {
   "display_name": "Python 3.9.4 64-bit ('3.9.4')",
   "language": "python",
   "name": "python3"
  },
  "language_info": {
   "codemirror_mode": {
    "name": "ipython",
    "version": 3
   },
   "file_extension": ".py",
   "mimetype": "text/x-python",
   "name": "python",
   "nbconvert_exporter": "python",
   "pygments_lexer": "ipython3",
   "version": "3.9.4"
  },
  "vscode": {
   "interpreter": {
    "hash": "f6f1e9be77d236915cf372a30ac7bd8eca8cdc17d355834e2d3963ff4a02a9e7"
   }
  }
 },
 "nbformat": 4,
 "nbformat_minor": 5
}
