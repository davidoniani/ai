{
 "cells": [
  {
   "cell_type": "code",
   "execution_count": 1,
   "id": "70ac0dcf-5c8e-4052-9186-dbcf6348557b",
   "metadata": {},
   "outputs": [],
   "source": [
    "import numpy as np\n",
    "\n",
    "from dataclasses import dataclass\n",
    "\n",
    "\n",
    "@dataclass\n",
    "class KNN:\n",
    "    features: np.ndarray\n",
    "    labels: np.ndarray\n",
    "    k: int\n",
    "\n",
    "    def predict(self, features: np.ndarray) -> np.ndarray:\n",
    "        \"\"\"Performs an inference on the given features.\"\"\"\n",
    "\n",
    "        predictions = []\n",
    "        for feature in features:\n",
    "            sorted_idxs = np.argsort([np.linalg.norm(feature - train_feature) for train_feature in self.features])[: self.k]\n",
    "            most_common = np.bincount([self.labels[idx] for idx in sorted_idxs]).argmax()\n",
    "            predictions.append(most_common)\n",
    "\n",
    "        return np.array(predictions)"
   ]
  },
  {
   "cell_type": "code",
   "execution_count": 2,
   "id": "248d5540-0a08-4ded-983e-cd00731a9760",
   "metadata": {},
   "outputs": [
    {
     "name": "stdout",
     "output_type": "stream",
     "text": [
      "Accuracy:  100.000%\n",
      "Precision: 1.000\n",
      "Recall:    1.000\n"
     ]
    }
   ],
   "source": [
    "from sklearn import datasets\n",
    "from sklearn.model_selection import train_test_split\n",
    "\n",
    "\n",
    "iris = datasets.load_iris()\n",
    "features = iris.data\n",
    "labels = iris.target\n",
    "\n",
    "train_features, test_features, train_labels, test_labels = train_test_split(features, labels, test_size=0.25, random_state=79)\n",
    "\n",
    "def confusion_matrix(predictions: np.ndarray, labels: np.ndarray) -> np.ndarray:\n",
    "    m: int = np.unique(labels).size\n",
    "    cm: np.ndarray = np.zeros((m, m))\n",
    "\n",
    "    for prediction, label in zip(predictions, labels):\n",
    "        cm[label][prediction] += 1\n",
    "\n",
    "    return cm\n",
    "\n",
    "\n",
    "knn = KNN(train_features, train_labels, k=3)\n",
    "\n",
    "predictions = knn.predict(test_features)\n",
    "labels = test_labels\n",
    "\n",
    "accuracy = np.mean(predictions == labels)\n",
    "\n",
    "cm = confusion_matrix(labels, predictions)\n",
    "precision = np.mean(np.diag(cm) / np.sum(cm, axis = 0))\n",
    "recall = np.mean(np.diag(cm) / np.sum(cm, axis = 1))\n",
    "\n",
    "print(f\"Accuracy:  {accuracy * 100:.3f}%\")\n",
    "print(f\"Precision: {recall:.3f}\")\n",
    "print(f\"Recall:    {precision:.3f}\")"
   ]
  }
 ],
 "metadata": {
  "kernelspec": {
   "display_name": "Python 3.9.4 64-bit ('3.9.4')",
   "language": "python",
   "name": "python3"
  },
  "language_info": {
   "codemirror_mode": {
    "name": "ipython",
    "version": 3
   },
   "file_extension": ".py",
   "mimetype": "text/x-python",
   "name": "python",
   "nbconvert_exporter": "python",
   "pygments_lexer": "ipython3",
   "version": "3.9.4"
  },
  "vscode": {
   "interpreter": {
    "hash": "f6f1e9be77d236915cf372a30ac7bd8eca8cdc17d355834e2d3963ff4a02a9e7"
   }
  }
 },
 "nbformat": 4,
 "nbformat_minor": 5
}
