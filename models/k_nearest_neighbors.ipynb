{
 "cells": [
  {
   "cell_type": "code",
   "execution_count": 1,
   "id": "70ac0dcf-5c8e-4052-9186-dbcf6348557b",
   "metadata": {},
   "outputs": [],
   "source": [
    "import numpy as np\n",
    "\n",
    "from dataclasses import dataclass\n",
    "\n",
    "\n",
    "@dataclass\n",
    "class KNN:\n",
    "    features: np.ndarray\n",
    "    labels: np.ndarray\n",
    "    k: int\n",
    "\n",
    "    def predict(self, features: np.ndarray) -> np.ndarray:\n",
    "        \"\"\"Performs inference on the given features.\"\"\"\n",
    "\n",
    "        num_samples, _ = features.shape\n",
    "\n",
    "        predictions = np.empty(num_samples)\n",
    "        for idx, feature in enumerate(features):\n",
    "            distances = [np.linalg.norm(feature - train_feature) for train_feature in self.features]\n",
    "            k_sorted_idxs = np.argsort(distances)[: self.k]\n",
    "            most_common = np.bincount([self.labels[idx] for idx in k_sorted_idxs]).argmax()\n",
    "            predictions[idx] = most_common\n",
    "\n",
    "        return predictions"
   ]
  },
  {
   "cell_type": "code",
   "execution_count": 2,
   "id": "a6241232",
   "metadata": {},
   "outputs": [
    {
     "name": "stdout",
     "output_type": "stream",
     "text": [
      "Accuracy:  97.368%\n",
      "Precision: 0.979\n",
      "Recall:    0.967\n",
      "F-score:   0.972\n"
     ]
    }
   ],
   "source": [
    "from sklearn import datasets\n",
    "from sklearn.metrics import precision_recall_fscore_support\n",
    "from sklearn.model_selection import train_test_split\n",
    "\n",
    "iris = datasets.load_iris()\n",
    "\n",
    "train_features, test_features, train_labels, test_labels = train_test_split(\n",
    "    iris.data, iris.target, test_size=0.25, random_state=0\n",
    ")\n",
    "\n",
    "knn = KNN(train_features, train_labels, k=3)\n",
    "predictions = knn.predict(test_features)\n",
    "\n",
    "accuracy = np.mean(predictions == test_labels)\n",
    "precision, recall, fscore, _ = precision_recall_fscore_support(\n",
    "    test_labels, predictions, average=\"macro\"\n",
    ")\n",
    "\n",
    "print(f\"Accuracy:  {accuracy * 100:.3f}%\")\n",
    "print(f\"Precision: {recall:.3f}\")\n",
    "print(f\"Recall:    {precision:.3f}\")\n",
    "print(f\"F-score:   {fscore:.3f}\")"
   ]
  }
 ],
 "metadata": {
  "kernelspec": {
   "display_name": "Python 3.9.4 64-bit ('3.9.4')",
   "language": "python",
   "name": "python3"
  },
  "language_info": {
   "codemirror_mode": {
    "name": "ipython",
    "version": 3
   },
   "file_extension": ".py",
   "mimetype": "text/x-python",
   "name": "python",
   "nbconvert_exporter": "python",
   "pygments_lexer": "ipython3",
   "version": "3.9.4"
  },
  "vscode": {
   "interpreter": {
    "hash": "f6f1e9be77d236915cf372a30ac7bd8eca8cdc17d355834e2d3963ff4a02a9e7"
   }
  }
 },
 "nbformat": 4,
 "nbformat_minor": 5
}
